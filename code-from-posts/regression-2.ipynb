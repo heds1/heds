{
 "metadata": {
  "language_info": {
   "codemirror_mode": {
    "name": "ipython",
    "version": 3
   },
   "file_extension": ".py",
   "mimetype": "text/x-python",
   "name": "python",
   "nbconvert_exporter": "python",
   "pygments_lexer": "ipython3",
   "version": "3.8.5-final"
  },
  "orig_nbformat": 2,
  "kernelspec": {
   "name": "python3",
   "display_name": "Python 3",
   "language": "python"
  }
 },
 "nbformat": 4,
 "nbformat_minor": 2,
 "cells": [
  {
   "cell_type": "code",
   "execution_count": 31,
   "metadata": {},
   "outputs": [],
   "source": [
    "import pandas as pd\n",
    "import seaborn as sns\n",
    "import statsmodels.formula.api as smf\n",
    "\n",
    "dat = (\n",
    "    pd.read_csv('data/new-zealands-greenhouse-gas-emissions-19902016.csv')\n",
    "        .melt(id_vars=['Gas','Source'],\n",
    "            var_name='Year', value_name='Units')\n",
    "        .query('Gas == \"All gases\"')\n",
    "        .astype({\n",
    "            'Year': 'int32',\n",
    "            'Gas': 'category',\n",
    "            'Source': 'category'    \n",
    "        })\n",
    "        .pivot(index='Year', columns='Source', values='Units')\n",
    "        .rename(columns={\n",
    "            \"All sources, Net (with LULUCF)\": \"Units\",\n",
    "            \"Manufacturing Industries and Construction\": \"ManufacturingAndConstruction\",\n",
    "            \"Land Use, Land-Use Change and Forestry\": \"LULUCF\",\n",
    "            \"Road Transportation\": \"RoadTransportation\"\n",
    "        })\n",
    "        # set Year as variable rather than index\n",
    "        .reset_index()\n",
    ")"
   ]
  },
  {
   "cell_type": "code",
   "execution_count": 32,
   "metadata": {},
   "outputs": [],
   "source": [
    "reg = smf.ols('Units ~ ManufacturingAndConstruction + LULUCF + RoadTransportation', data=dat).fit()"
   ]
  },
  {
   "cell_type": "code",
   "execution_count": 33,
   "metadata": {},
   "outputs": [
    {
     "output_type": "execute_result",
     "data": {
      "text/plain": [
       "<class 'statsmodels.iolib.summary.Summary'>\n",
       "\"\"\"\n",
       "                            OLS Regression Results                            \n",
       "==============================================================================\n",
       "Dep. Variable:                  Units   R-squared:                       0.927\n",
       "Model:                            OLS   Adj. R-squared:                  0.917\n",
       "Method:                 Least Squares   F-statistic:                     97.27\n",
       "Date:                Mon, 15 Feb 2021   Prob (F-statistic):           3.26e-13\n",
       "Time:                        17:10:11   Log-Likelihood:                -245.06\n",
       "No. Observations:                  27   AIC:                             498.1\n",
       "Df Residuals:                      23   BIC:                             503.3\n",
       "Df Model:                           3                                         \n",
       "Covariance Type:            nonrobust                                         \n",
       "================================================================================================\n",
       "                                   coef    std err          t      P>|t|      [0.025      0.975]\n",
       "------------------------------------------------------------------------------------------------\n",
       "Intercept                      4.13e+04   9688.144      4.262      0.000    2.13e+04    6.13e+04\n",
       "ManufacturingAndConstruction     0.0661      0.740      0.089      0.930      -1.466       1.598\n",
       "LULUCF                           0.8892      0.201      4.426      0.000       0.474       1.305\n",
       "RoadTransportation               2.8519      0.351      8.122      0.000       2.126       3.578\n",
       "==============================================================================\n",
       "Omnibus:                        0.696   Durbin-Watson:                   0.544\n",
       "Prob(Omnibus):                  0.706   Jarque-Bera (JB):                0.740\n",
       "Skew:                           0.323   Prob(JB):                        0.691\n",
       "Kurtosis:                       2.510   Cond. No.                     7.00e+05\n",
       "==============================================================================\n",
       "\n",
       "Notes:\n",
       "[1] Standard Errors assume that the covariance matrix of the errors is correctly specified.\n",
       "[2] The condition number is large,  7e+05. This might indicate that there are\n",
       "strong multicollinearity or other numerical problems.\n",
       "\"\"\""
      ],
      "text/html": "<table class=\"simpletable\">\n<caption>OLS Regression Results</caption>\n<tr>\n  <th>Dep. Variable:</th>          <td>Units</td>      <th>  R-squared:         </th> <td>   0.927</td>\n</tr>\n<tr>\n  <th>Model:</th>                   <td>OLS</td>       <th>  Adj. R-squared:    </th> <td>   0.917</td>\n</tr>\n<tr>\n  <th>Method:</th>             <td>Least Squares</td>  <th>  F-statistic:       </th> <td>   97.27</td>\n</tr>\n<tr>\n  <th>Date:</th>             <td>Mon, 15 Feb 2021</td> <th>  Prob (F-statistic):</th> <td>3.26e-13</td>\n</tr>\n<tr>\n  <th>Time:</th>                 <td>17:10:11</td>     <th>  Log-Likelihood:    </th> <td> -245.06</td>\n</tr>\n<tr>\n  <th>No. Observations:</th>      <td>    27</td>      <th>  AIC:               </th> <td>   498.1</td>\n</tr>\n<tr>\n  <th>Df Residuals:</th>          <td>    23</td>      <th>  BIC:               </th> <td>   503.3</td>\n</tr>\n<tr>\n  <th>Df Model:</th>              <td>     3</td>      <th>                     </th>     <td> </td>   \n</tr>\n<tr>\n  <th>Covariance Type:</th>      <td>nonrobust</td>    <th>                     </th>     <td> </td>   \n</tr>\n</table>\n<table class=\"simpletable\">\n<tr>\n                <td></td>                  <th>coef</th>     <th>std err</th>      <th>t</th>      <th>P>|t|</th>  <th>[0.025</th>    <th>0.975]</th>  \n</tr>\n<tr>\n  <th>Intercept</th>                    <td>  4.13e+04</td> <td> 9688.144</td> <td>    4.262</td> <td> 0.000</td> <td> 2.13e+04</td> <td> 6.13e+04</td>\n</tr>\n<tr>\n  <th>ManufacturingAndConstruction</th> <td>    0.0661</td> <td>    0.740</td> <td>    0.089</td> <td> 0.930</td> <td>   -1.466</td> <td>    1.598</td>\n</tr>\n<tr>\n  <th>LULUCF</th>                       <td>    0.8892</td> <td>    0.201</td> <td>    4.426</td> <td> 0.000</td> <td>    0.474</td> <td>    1.305</td>\n</tr>\n<tr>\n  <th>RoadTransportation</th>           <td>    2.8519</td> <td>    0.351</td> <td>    8.122</td> <td> 0.000</td> <td>    2.126</td> <td>    3.578</td>\n</tr>\n</table>\n<table class=\"simpletable\">\n<tr>\n  <th>Omnibus:</th>       <td> 0.696</td> <th>  Durbin-Watson:     </th> <td>   0.544</td>\n</tr>\n<tr>\n  <th>Prob(Omnibus):</th> <td> 0.706</td> <th>  Jarque-Bera (JB):  </th> <td>   0.740</td>\n</tr>\n<tr>\n  <th>Skew:</th>          <td> 0.323</td> <th>  Prob(JB):          </th> <td>   0.691</td>\n</tr>\n<tr>\n  <th>Kurtosis:</th>      <td> 2.510</td> <th>  Cond. No.          </th> <td>7.00e+05</td>\n</tr>\n</table><br/><br/>Notes:<br/>[1] Standard Errors assume that the covariance matrix of the errors is correctly specified.<br/>[2] The condition number is large,  7e+05. This might indicate that there are<br/>strong multicollinearity or other numerical problems."
     },
     "metadata": {},
     "execution_count": 33
    }
   ],
   "source": [
    "reg.summary()"
   ]
  },
  {
   "cell_type": "code",
   "execution_count": null,
   "metadata": {},
   "outputs": [],
   "source": []
  }
 ]
}