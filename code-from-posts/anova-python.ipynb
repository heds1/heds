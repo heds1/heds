{
 "metadata": {
  "language_info": {
   "codemirror_mode": {
    "name": "ipython",
    "version": 3
   },
   "file_extension": ".py",
   "mimetype": "text/x-python",
   "name": "python",
   "nbconvert_exporter": "python",
   "pygments_lexer": "ipython3",
   "version": "3.8.6-final"
  },
  "orig_nbformat": 2,
  "kernelspec": {
   "name": "python3",
   "display_name": "Python 3",
   "language": "python"
  }
 },
 "nbformat": 4,
 "nbformat_minor": 2,
 "cells": [
  {
   "cell_type": "code",
   "execution_count": 12,
   "metadata": {},
   "outputs": [],
   "source": [
    "import pandas as pd\n",
    "from seaborn import load_dataset\n",
    "import statsmodels.formula.api as sm\n",
    "import statsmodels.stats.multicomp as multi\n",
    "\n",
    "iris = load_dataset(\"iris\")"
   ]
  },
  {
   "cell_type": "code",
   "execution_count": 4,
   "metadata": {},
   "outputs": [
    {
     "output_type": "execute_result",
     "data": {
      "text/plain": [
       "<class 'statsmodels.iolib.summary.Summary'>\n",
       "\"\"\"\n",
       "                            OLS Regression Results                            \n",
       "==============================================================================\n",
       "Dep. Variable:           sepal_length   R-squared:                       0.707\n",
       "Model:                            OLS   Adj. R-squared:                  0.704\n",
       "Method:                 Least Squares   F-statistic:                     236.7\n",
       "Date:                Thu, 21 Jan 2021   Prob (F-statistic):           6.89e-28\n",
       "Time:                        10:44:17   Log-Likelihood:                -74.349\n",
       "No. Observations:                 100   AIC:                             152.7\n",
       "Df Residuals:                      98   BIC:                             157.9\n",
       "Df Model:                           1                                         \n",
       "Covariance Type:            nonrobust                                         \n",
       "===========================================================================================\n",
       "                              coef    std err          t      P>|t|      [0.025      0.975]\n",
       "-------------------------------------------------------------------------------------------\n",
       "Intercept                   5.0060      0.073     68.854      0.000       4.862       5.150\n",
       "C(species)[T.virginica]     1.5820      0.103     15.386      0.000       1.378       1.786\n",
       "==============================================================================\n",
       "Omnibus:                        2.651   Durbin-Watson:                   2.191\n",
       "Prob(Omnibus):                  0.266   Jarque-Bera (JB):                2.318\n",
       "Skew:                           0.127   Prob(JB):                        0.314\n",
       "Kurtosis:                       3.701   Cond. No.                         2.62\n",
       "==============================================================================\n",
       "\n",
       "Notes:\n",
       "[1] Standard Errors assume that the covariance matrix of the errors is correctly specified.\n",
       "\"\"\""
      ],
      "text/html": "<table class=\"simpletable\">\n<caption>OLS Regression Results</caption>\n<tr>\n  <th>Dep. Variable:</th>      <td>sepal_length</td>   <th>  R-squared:         </th> <td>   0.707</td>\n</tr>\n<tr>\n  <th>Model:</th>                   <td>OLS</td>       <th>  Adj. R-squared:    </th> <td>   0.704</td>\n</tr>\n<tr>\n  <th>Method:</th>             <td>Least Squares</td>  <th>  F-statistic:       </th> <td>   236.7</td>\n</tr>\n<tr>\n  <th>Date:</th>             <td>Thu, 21 Jan 2021</td> <th>  Prob (F-statistic):</th> <td>6.89e-28</td>\n</tr>\n<tr>\n  <th>Time:</th>                 <td>10:44:17</td>     <th>  Log-Likelihood:    </th> <td> -74.349</td>\n</tr>\n<tr>\n  <th>No. Observations:</th>      <td>   100</td>      <th>  AIC:               </th> <td>   152.7</td>\n</tr>\n<tr>\n  <th>Df Residuals:</th>          <td>    98</td>      <th>  BIC:               </th> <td>   157.9</td>\n</tr>\n<tr>\n  <th>Df Model:</th>              <td>     1</td>      <th>                     </th>     <td> </td>   \n</tr>\n<tr>\n  <th>Covariance Type:</th>      <td>nonrobust</td>    <th>                     </th>     <td> </td>   \n</tr>\n</table>\n<table class=\"simpletable\">\n<tr>\n             <td></td>                <th>coef</th>     <th>std err</th>      <th>t</th>      <th>P>|t|</th>  <th>[0.025</th>    <th>0.975]</th>  \n</tr>\n<tr>\n  <th>Intercept</th>               <td>    5.0060</td> <td>    0.073</td> <td>   68.854</td> <td> 0.000</td> <td>    4.862</td> <td>    5.150</td>\n</tr>\n<tr>\n  <th>C(species)[T.virginica]</th> <td>    1.5820</td> <td>    0.103</td> <td>   15.386</td> <td> 0.000</td> <td>    1.378</td> <td>    1.786</td>\n</tr>\n</table>\n<table class=\"simpletable\">\n<tr>\n  <th>Omnibus:</th>       <td> 2.651</td> <th>  Durbin-Watson:     </th> <td>   2.191</td>\n</tr>\n<tr>\n  <th>Prob(Omnibus):</th> <td> 0.266</td> <th>  Jarque-Bera (JB):  </th> <td>   2.318</td>\n</tr>\n<tr>\n  <th>Skew:</th>          <td> 0.127</td> <th>  Prob(JB):          </th> <td>   0.314</td>\n</tr>\n<tr>\n  <th>Kurtosis:</th>      <td> 3.701</td> <th>  Cond. No.          </th> <td>    2.62</td>\n</tr>\n</table><br/><br/>Notes:<br/>[1] Standard Errors assume that the covariance matrix of the errors is correctly specified."
     },
     "metadata": {},
     "execution_count": 4
    }
   ],
   "source": [
    "my_subset = iris[iris[\"species\"].isin(['setosa', 'virginica'])]\n",
    "subset_model = sm.ols(formula='sepal_length ~ C(species)', data=my_subset)\n",
    "subset_model.fit().summary()"
   ]
  },
  {
   "cell_type": "code",
   "execution_count": 10,
   "metadata": {},
   "outputs": [
    {
     "output_type": "execute_result",
     "data": {
      "text/plain": [
       "           sepal_length  sepal_width  petal_length  petal_width\n",
       "species                                                        \n",
       "setosa            5.006        3.428         1.462        0.246\n",
       "virginica         6.588        2.974         5.552        2.026"
      ],
      "text/html": "<div>\n<style scoped>\n    .dataframe tbody tr th:only-of-type {\n        vertical-align: middle;\n    }\n\n    .dataframe tbody tr th {\n        vertical-align: top;\n    }\n\n    .dataframe thead th {\n        text-align: right;\n    }\n</style>\n<table border=\"1\" class=\"dataframe\">\n  <thead>\n    <tr style=\"text-align: right;\">\n      <th></th>\n      <th>sepal_length</th>\n      <th>sepal_width</th>\n      <th>petal_length</th>\n      <th>petal_width</th>\n    </tr>\n    <tr>\n      <th>species</th>\n      <th></th>\n      <th></th>\n      <th></th>\n      <th></th>\n    </tr>\n  </thead>\n  <tbody>\n    <tr>\n      <th>setosa</th>\n      <td>5.006</td>\n      <td>3.428</td>\n      <td>1.462</td>\n      <td>0.246</td>\n    </tr>\n    <tr>\n      <th>virginica</th>\n      <td>6.588</td>\n      <td>2.974</td>\n      <td>5.552</td>\n      <td>2.026</td>\n    </tr>\n  </tbody>\n</table>\n</div>"
     },
     "metadata": {},
     "execution_count": 10
    }
   ],
   "source": [
    "my_subset.groupby(\"species\").mean()"
   ]
  },
  {
   "cell_type": "code",
   "execution_count": 11,
   "metadata": {},
   "outputs": [
    {
     "output_type": "execute_result",
     "data": {
      "text/plain": [
       "           sepal_length  sepal_width  petal_length  petal_width\n",
       "species                                                        \n",
       "setosa          0.35249     0.379064      0.173664     0.105386\n",
       "virginica       0.63588     0.322497      0.551895     0.274650"
      ],
      "text/html": "<div>\n<style scoped>\n    .dataframe tbody tr th:only-of-type {\n        vertical-align: middle;\n    }\n\n    .dataframe tbody tr th {\n        vertical-align: top;\n    }\n\n    .dataframe thead th {\n        text-align: right;\n    }\n</style>\n<table border=\"1\" class=\"dataframe\">\n  <thead>\n    <tr style=\"text-align: right;\">\n      <th></th>\n      <th>sepal_length</th>\n      <th>sepal_width</th>\n      <th>petal_length</th>\n      <th>petal_width</th>\n    </tr>\n    <tr>\n      <th>species</th>\n      <th></th>\n      <th></th>\n      <th></th>\n      <th></th>\n    </tr>\n  </thead>\n  <tbody>\n    <tr>\n      <th>setosa</th>\n      <td>0.35249</td>\n      <td>0.379064</td>\n      <td>0.173664</td>\n      <td>0.105386</td>\n    </tr>\n    <tr>\n      <th>virginica</th>\n      <td>0.63588</td>\n      <td>0.322497</td>\n      <td>0.551895</td>\n      <td>0.274650</td>\n    </tr>\n  </tbody>\n</table>\n</div>"
     },
     "metadata": {},
     "execution_count": 11
    }
   ],
   "source": [
    "my_subset.groupby(\"species\").std()"
   ]
  },
  {
   "cell_type": "code",
   "execution_count": 16,
   "metadata": {},
   "outputs": [
    {
     "output_type": "execute_result",
     "data": {
      "text/plain": [
       "<class 'statsmodels.iolib.table.SimpleTable'>"
      ],
      "text/html": "<table class=\"simpletable\">\n<caption>Multiple Comparison of Means - Tukey HSD, FWER=0.05</caption>\n<tr>\n    <th>group1</th>     <th>group2</th>   <th>meandiff</th> <th>p-adj</th>  <th>lower</th>  <th>upper</th> <th>reject</th>\n</tr>\n<tr>\n    <td>setosa</td>   <td>versicolor</td>   <td>0.93</td>   <td>0.001</td> <td>0.6862</td> <td>1.1738</td>  <td>True</td> \n</tr>\n<tr>\n    <td>setosa</td>    <td>virginica</td>   <td>1.582</td>  <td>0.001</td> <td>1.3382</td> <td>1.8258</td>  <td>True</td> \n</tr>\n<tr>\n  <td>versicolor</td>  <td>virginica</td>   <td>0.652</td>  <td>0.001</td> <td>0.4082</td> <td>0.8958</td>  <td>True</td> \n</tr>\n</table>"
     },
     "metadata": {},
     "execution_count": 16
    }
   ],
   "source": [
    "multi_comp = multi.MultiComparison(iris['sepal_length'], iris['species'])\n",
    "multi_comp.tukeyhsd().summary()"
   ]
  }
 ]
}